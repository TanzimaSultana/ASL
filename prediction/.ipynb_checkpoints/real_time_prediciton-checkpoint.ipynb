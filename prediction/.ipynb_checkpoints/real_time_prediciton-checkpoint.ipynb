{
 "cells": [
  {
   "cell_type": "code",
   "execution_count": 1,
   "id": "b673ed65-a0cb-4c20-aa38-698027dc09f7",
   "metadata": {},
   "outputs": [],
   "source": [
    "import tkinter as tk\n",
    "from tkinter import messagebox\n",
    "import subprocess\n",
    "import os\n",
    "import sys"
   ]
  },
  {
   "cell_type": "code",
   "execution_count": 2,
   "id": "787958cd-4181-489e-8e46-a5fed4b4f2f1",
   "metadata": {},
   "outputs": [],
   "source": [
    "# Prevent TensorFlow warnings\n",
    "os.environ['TF_CPP_MIN_LOG_LEVEL'] = '2'"
   ]
  },
  {
   "cell_type": "code",
   "execution_count": 3,
   "id": "3f0c07b2-2175-4801-b0e0-b5c3c2463109",
   "metadata": {},
   "outputs": [],
   "source": [
    "# Paths to scripts/models\n",
    "cnn_script = \"real_time_predict_cnn.py\"\n",
    "cnn_1_script = \"real_time_predict_cnn_1.py\"\n",
    "vgg_script = \"real_time_predict_vgg16.py\""
   ]
  },
  {
   "cell_type": "code",
   "execution_count": 4,
   "id": "76c36903-2cd7-4d66-bb8e-518124e5624a",
   "metadata": {},
   "outputs": [],
   "source": [
    "process = None  # Global to hold the subprocess"
   ]
  },
  {
   "cell_type": "code",
   "execution_count": 5,
   "id": "81728fa6-7835-44b1-a0ea-10bb9c0d4a55",
   "metadata": {},
   "outputs": [],
   "source": [
    "def run_model(choice):\n",
    "    global process\n",
    "    if process and process.poll() is None:\n",
    "        messagebox.showwarning(\"Model Running\", \"A model is already running.\")\n",
    "        return\n",
    "\n",
    "    try:\n",
    "        if choice == \"CNN\":\n",
    "            process = subprocess.Popen([\"python3\", cnn_script], preexec_fn=os.setsid)\n",
    "        elif choice == \"CNN with augmented data\":\n",
    "            process = subprocess.Popen([\"python3\", cnn_1_script], preexec_fn=os.setsid)\n",
    "        elif choice == \"VGG16\":\n",
    "            process = subprocess.Popen([\"python3\", vgg_script], preexec_fn=os.setsid)\n",
    "        else:\n",
    "            messagebox.showerror(\"Error\", \"Invalid model selected.\")\n",
    "    except Exception as e:\n",
    "        messagebox.showerror(\"Launch Error\", str(e))"
   ]
  },
  {
   "cell_type": "code",
   "execution_count": 6,
   "id": "9715d51b-e4b2-45a1-baa9-304354e2ab37",
   "metadata": {},
   "outputs": [
    {
     "name": "stderr",
     "output_type": "stream",
     "text": [
      "2025-07-05 18:39:18.791733: E tensorflow/core/grappler/optimizers/meta_optimizer.cc:961] PluggableGraphOptimizer failed: INVALID_ARGUMENT: Failed to deserialize the `graph_buf`.\n"
     ]
    },
    {
     "name": "stdout",
     "output_type": "stream",
     "text": [
      "Press 'q' to quit the webcam stream.\n",
      "Webcam stream ended.\n"
     ]
    }
   ],
   "source": [
    "def on_close():\n",
    "    global process\n",
    "    if process and process.poll() is None:\n",
    "        try:\n",
    "            os.killpg(os.getpgid(process.pid), signal.SIGTERM)\n",
    "        except Exception:\n",
    "            pass\n",
    "    root.destroy()\n",
    "\n",
    "# Build GUI\n",
    "root = tk.Tk()\n",
    "root.title(\"ASL Real-Time Model Selector\")\n",
    "root.geometry(\"350x220\")\n",
    "root.protocol(\"WM_DELETE_WINDOW\", on_close)\n",
    "\n",
    "tk.Label(root, text=\"Select a model to run:\", font=(\"Helvetica\", 14)).pack(pady=10)\n",
    "model_var = tk.StringVar(value=\"CNN\")\n",
    "for model_name in [\"CNN\", \"CNN with augmented data\", \"VGG16\"]:\n",
    "    tk.Radiobutton(root, text=model_name, variable=model_var, value=model_name, font=(\"Helvetica\", 12)).pack(anchor=\"w\", padx=20)\n",
    "\n",
    "tk.Button(root, text=\"Run Model\", font=(\"Helvetica\", 12), command=lambda: run_model(model_var.get())).pack(pady=20)\n",
    "root.mainloop()"
   ]
  },
  {
   "cell_type": "code",
   "execution_count": null,
   "id": "f3b79ba2-cac7-406e-9191-96fbf3772c58",
   "metadata": {},
   "outputs": [],
   "source": []
  }
 ],
 "metadata": {
  "kernelspec": {
   "display_name": "Python 3 (ipykernel)",
   "language": "python",
   "name": "python3"
  },
  "language_info": {
   "codemirror_mode": {
    "name": "ipython",
    "version": 3
   },
   "file_extension": ".py",
   "mimetype": "text/x-python",
   "name": "python",
   "nbconvert_exporter": "python",
   "pygments_lexer": "ipython3",
   "version": "3.12.7"
  }
 },
 "nbformat": 4,
 "nbformat_minor": 5
}
